{
  "nbformat": 4,
  "nbformat_minor": 0,
  "metadata": {
    "colab": {
      "name": "Amreleraqi.ipynb",
      "provenance": []
    },
    "kernelspec": {
      "display_name": "Python 3",
      "name": "python3"
    },
    "language_info": {
      "name": "python"
    }
  },
  "cells": [
    {
      "cell_type": "code",
      "metadata": {
        "colab": {
          "base_uri": "https://localhost:8080/"
        },
        "id": "zr393G4p2PAc",
        "outputId": "77dd8356-7538-47e8-a0df-66564955324e"
      },
      "source": [
        "print(\"Hi\")"
      ],
      "execution_count": null,
      "outputs": [
        {
          "name": "stdout",
          "output_type": "stream",
          "text": [
            "Hi\n"
          ]
        }
      ]
    },
    {
      "cell_type": "code",
      "metadata": {
        "colab": {
          "base_uri": "https://localhost:8080/"
        },
        "id": "iMtmIQdq3nfh",
        "outputId": "f4efb663-5257-48e3-a725-63376f79f56a"
      },
      "source": [
        "print(8)"
      ],
      "execution_count": null,
      "outputs": [
        {
          "name": "stdout",
          "output_type": "stream",
          "text": [
            "8\n"
          ]
        }
      ]
    },
    {
      "cell_type": "code",
      "metadata": {
        "colab": {
          "base_uri": "https://localhost:8080/"
        },
        "id": "9hHQwsP33utT",
        "outputId": "c6ff0f68-0cb1-47e7-e21e-c8be97d3c032"
      },
      "source": [
        "Name = \"Amr\"\n",
        "Age = 38\n",
        "print(\"\\r Welcome {0} your age is {1} and you\\n are too old to play with me\" .format(Name,Age))"
      ],
      "execution_count": null,
      "outputs": [
        {
          "name": "stdout",
          "output_type": "stream",
          "text": [
            "\r Welcome Amr your age is 38 and you\n",
            " are too old to play with me\n"
          ]
        }
      ]
    },
    {
      "cell_type": "code",
      "metadata": {
        "colab": {
          "base_uri": "https://localhost:8080/"
        },
        "id": "g5kL3Q8X6Dby",
        "outputId": "bd25868a-7b31-4c7d-8852-fec13a6c490d"
      },
      "source": [
        "print(f\"Welcome {Name} your age is {Age}\")"
      ],
      "execution_count": null,
      "outputs": [
        {
          "name": "stdout",
          "output_type": "stream",
          "text": [
            "Welcome Amr your age is 38\n"
          ]
        }
      ]
    },
    {
      "cell_type": "code",
      "metadata": {
        "colab": {
          "base_uri": "https://localhost:8080/"
        },
        "id": "JBMcwpQG8O2q",
        "outputId": "8706dc8a-eac6-4954-adcb-2ab61335c039"
      },
      "source": [
        "s= \"Amr\"\n",
        "s2= s.replace(\"A\",\"O\")\n",
        "print(f\"The old is {s} and the new name is {s2}\")"
      ],
      "execution_count": null,
      "outputs": [
        {
          "name": "stdout",
          "output_type": "stream",
          "text": [
            "The old is Amr and the new name is Omr\n"
          ]
        }
      ]
    },
    {
      "cell_type": "code",
      "metadata": {
        "colab": {
          "base_uri": "https://localhost:8080/"
        },
        "id": "pgWO4Nj0-b-R",
        "outputId": "ea8c56db-b1c2-4fc9-8040-44f9ec3da28d"
      },
      "source": [
        "print(\"\"\"print this string on \n",
        "many many many lines\"\"\")"
      ],
      "execution_count": null,
      "outputs": [
        {
          "name": "stdout",
          "output_type": "stream",
          "text": [
            "print this string on \n",
            "many many many lines\n"
          ]
        }
      ]
    },
    {
      "cell_type": "code",
      "metadata": {
        "colab": {
          "base_uri": "https://localhost:8080/"
        },
        "id": "R97oXT29_7Nc",
        "outputId": "f3926bd8-e18d-416f-bcda-4d0b39d39bb7"
      },
      "source": [
        "Namr =\"Amr\"\n",
        "print(Name.title())"
      ],
      "execution_count": null,
      "outputs": [
        {
          "name": "stdout",
          "output_type": "stream",
          "text": [
            "Amr\n"
          ]
        }
      ]
    },
    {
      "cell_type": "code",
      "metadata": {
        "colab": {
          "base_uri": "https://localhost:8080/"
        },
        "id": "iOd52-bnB9sZ",
        "outputId": "f25b95c0-2e2a-4477-e7fe-53a0a4a92444"
      },
      "source": [
        "len(Name)"
      ],
      "execution_count": null,
      "outputs": [
        {
          "data": {
            "text/plain": [
              "3"
            ]
          },
          "execution_count": 20,
          "metadata": {},
          "output_type": "execute_result"
        }
      ]
    },
    {
      "cell_type": "code",
      "metadata": {
        "colab": {
          "base_uri": "https://localhost:8080/"
        },
        "id": "j6N_En8SCLJA",
        "outputId": "5bf4abde-a6d9-4413-ca83-8c74c031ad5d"
      },
      "source": [
        "print(Name.isalpha())"
      ],
      "execution_count": null,
      "outputs": [
        {
          "name": "stdout",
          "output_type": "stream",
          "text": [
            "True\n"
          ]
        }
      ]
    },
    {
      "cell_type": "code",
      "metadata": {
        "colab": {
          "base_uri": "https://localhost:8080/"
        },
        "id": "iEZMQ2tKDcYT",
        "outputId": "dd511cc4-3b41-4ed3-ddad-e631c1630fd4"
      },
      "source": [
        "Name.index(\"r\")"
      ],
      "execution_count": null,
      "outputs": [
        {
          "data": {
            "text/plain": [
              "2"
            ]
          },
          "execution_count": 22,
          "metadata": {},
          "output_type": "execute_result"
        }
      ]
    },
    {
      "cell_type": "code",
      "metadata": {
        "colab": {
          "base_uri": "https://localhost:8080/"
        },
        "id": "0bPY6ikSEZmp",
        "outputId": "acc91f45-126b-4a68-de3f-da62cb74239e"
      },
      "source": [
        "print(Name[0:3])"
      ],
      "execution_count": null,
      "outputs": [
        {
          "name": "stdout",
          "output_type": "stream",
          "text": [
            "Amr\n"
          ]
        }
      ]
    },
    {
      "cell_type": "code",
      "metadata": {
        "colab": {
          "base_uri": "https://localhost:8080/"
        },
        "id": "xUSb95iiFmFf",
        "outputId": "2434ad2c-7c5f-482f-e4b6-605e3d040501"
      },
      "source": [
        "print(Name*10)"
      ],
      "execution_count": null,
      "outputs": [
        {
          "name": "stdout",
          "output_type": "stream",
          "text": [
            "AmrAmrAmrAmrAmrAmrAmrAmrAmrAmr\n"
          ]
        }
      ]
    },
    {
      "cell_type": "markdown",
      "metadata": {
        "id": "CkQMlI6UHOBf"
      },
      "source": [
        "**Tasks**"
      ]
    },
    {
      "cell_type": "code",
      "metadata": {
        "colab": {
          "base_uri": "https://localhost:8080/"
        },
        "id": "ZvSJmREvJChq",
        "outputId": "9630b3fb-2f07-45d4-918c-97199152e5ca"
      },
      "source": [
        "#Task 1\n",
        "Y= input(\"First Number\")\n",
        "X= input(\"Second Number\")\n",
        "print(int(Y)*int(X))"
      ],
      "execution_count": null,
      "outputs": [
        {
          "output_type": "stream",
          "name": "stdout",
          "text": [
            "First Number5\n",
            "Second Number5\n",
            "25\n"
          ]
        }
      ]
    },
    {
      "cell_type": "code",
      "metadata": {
        "colab": {
          "base_uri": "https://localhost:8080/"
        },
        "id": "D_t5CPKlJ1at",
        "outputId": "56b3c0bf-716c-48d9-e9cc-89032cfabd73"
      },
      "source": [
        "Y= input(\"First Number\")\n",
        "X= input(\"Second Number\")\n",
        "print(int(Y)+int(X))"
      ],
      "execution_count": null,
      "outputs": [
        {
          "output_type": "stream",
          "name": "stdout",
          "text": [
            "First Number5\n",
            "Second Number5\n",
            "10\n"
          ]
        }
      ]
    },
    {
      "cell_type": "code",
      "metadata": {
        "colab": {
          "base_uri": "https://localhost:8080/"
        },
        "id": "_Ycnre7sJ8be",
        "outputId": "80904fcf-eb4c-468c-8e41-21d5915e98ca"
      },
      "source": [
        "Y= input(\"First Number\")\n",
        "X= input(\"Second Number\")\n",
        "print(int(Y)-int(X))"
      ],
      "execution_count": null,
      "outputs": [
        {
          "output_type": "stream",
          "name": "stdout",
          "text": [
            "First Number5\n",
            "Second Number5\n",
            "0\n"
          ]
        }
      ]
    },
    {
      "cell_type": "code",
      "metadata": {
        "colab": {
          "base_uri": "https://localhost:8080/"
        },
        "id": "YEonItK5KB37",
        "outputId": "5a4c8377-1430-43de-c227-989518e0c160"
      },
      "source": [
        "Y= input(\"First Number\")\n",
        "X= input(\"Second Number\")\n",
        "print(int(Y)/int(X))"
      ],
      "execution_count": null,
      "outputs": [
        {
          "output_type": "stream",
          "name": "stdout",
          "text": [
            "First Number5\n",
            "Second Number5\n",
            "1.0\n"
          ]
        }
      ]
    },
    {
      "cell_type": "code",
      "metadata": {
        "colab": {
          "base_uri": "https://localhost:8080/",
          "height": 36
        },
        "id": "f02rbSzKMkcm",
        "outputId": "c6e59f0a-0223-4b40-99b3-5e0de49575b4"
      },
      "source": [
        "#Task2\n",
        "my_name =\"Amr Abdelkarim Abdelfata Mohamed\"\n",
        "my_name.upper()"
      ],
      "execution_count": null,
      "outputs": [
        {
          "output_type": "execute_result",
          "data": {
            "application/vnd.google.colaboratory.intrinsic+json": {
              "type": "string"
            },
            "text/plain": [
              "'AMR ABDELKARIM ABDELFATA MOHAMED'"
            ]
          },
          "metadata": {},
          "execution_count": 28
        }
      ]
    },
    {
      "cell_type": "code",
      "metadata": {
        "colab": {
          "base_uri": "https://localhost:8080/"
        },
        "id": "hCGxwsJeNnlU",
        "outputId": "ad2dde48-bf7a-46ba-f880-68e42a6b8202"
      },
      "source": [
        "my_name =\"Amr Abdelkarim Abdelfata Mohamed\"\n",
        "my_name.isnumeric()"
      ],
      "execution_count": null,
      "outputs": [
        {
          "output_type": "execute_result",
          "data": {
            "text/plain": [
              "False"
            ]
          },
          "metadata": {},
          "execution_count": 34
        }
      ]
    },
    {
      "cell_type": "code",
      "metadata": {
        "colab": {
          "base_uri": "https://localhost:8080/"
        },
        "id": "e3O3h6KtPBdi",
        "outputId": "2e8ebdc1-7ba3-4e0c-a5f6-fc11f2a223cc"
      },
      "source": [
        "my_name =\"Amr Abdelkarim Abdelfatah Mohamed\"\n",
        "New_Name= my_name.replace(\"Mohamed\",\"Eleraqi\")\n",
        "print(New_Name)"
      ],
      "execution_count": null,
      "outputs": [
        {
          "output_type": "stream",
          "name": "stdout",
          "text": [
            "Amr Abdelkarim Abdelfatah Eleraqi\n"
          ]
        }
      ]
    },
    {
      "cell_type": "code",
      "metadata": {
        "colab": {
          "base_uri": "https://localhost:8080/"
        },
        "id": "M1tirjs1PjBR",
        "outputId": "73c3c0d2-5f18-4bc4-db88-eaf488ff77b5"
      },
      "source": [
        "len(New_Name)"
      ],
      "execution_count": null,
      "outputs": [
        {
          "output_type": "execute_result",
          "data": {
            "text/plain": [
              "33"
            ]
          },
          "metadata": {},
          "execution_count": 36
        }
      ]
    },
    {
      "cell_type": "code",
      "metadata": {
        "colab": {
          "base_uri": "https://localhost:8080/"
        },
        "id": "v4Q1PWBXP_2o",
        "outputId": "4d219c7c-25f7-4d84-d3e4-6ba35efe249c"
      },
      "source": [
        "print(New_Name*2)"
      ],
      "execution_count": null,
      "outputs": [
        {
          "output_type": "stream",
          "name": "stdout",
          "text": [
            "Amr Abdelkarim Abdelfatah EleraqiAmr Abdelkarim Abdelfatah Eleraqi\n"
          ]
        }
      ]
    },
    {
      "cell_type": "code",
      "metadata": {
        "colab": {
          "base_uri": "https://localhost:8080/"
        },
        "id": "u8PdkyzTQuCx",
        "outputId": "18209c43-72f3-455a-ff9a-1cae0eda8e5c"
      },
      "source": [
        "Age = 39\n",
        "print(\"\\r Welcome {0} your age is {1} and you\\n are too old to play with me\" .format(New_Name,Age))"
      ],
      "execution_count": null,
      "outputs": [
        {
          "output_type": "stream",
          "name": "stdout",
          "text": [
            "\r Welcome Amr Abdelkarim Abdelfatah Eleraqi your age is 39 and you\n",
            " are too old to play with me\n"
          ]
        }
      ]
    },
    {
      "cell_type": "code",
      "metadata": {
        "colab": {
          "base_uri": "https://localhost:8080/"
        },
        "id": "NwqSwBQqHaxI",
        "outputId": "f6b91740-2139-4693-b3af-37d192fe0cf4"
      },
      "source": [
        "print(\"welcom %s your age is %s\" %(New_Name,Age))"
      ],
      "execution_count": null,
      "outputs": [
        {
          "output_type": "stream",
          "name": "stdout",
          "text": [
            "welcom Amr Abdelkarim Abdelfatah Eleraqi your age is 39\n"
          ]
        }
      ]
    },
    {
      "cell_type": "code",
      "metadata": {
        "colab": {
          "base_uri": "https://localhost:8080/"
        },
        "id": "FtL0hyTrH7Gy",
        "outputId": "b371cc5e-55f8-4609-b785-83b9749f3dc7"
      },
      "source": [
        "print(f\"welcome {New_Name} your age is {Age}\")"
      ],
      "execution_count": null,
      "outputs": [
        {
          "output_type": "stream",
          "name": "stdout",
          "text": [
            "welcome Amr Abdelkarim Abdelfatah Eleraqi your age is 39\n"
          ]
        }
      ]
    },
    {
      "cell_type": "code",
      "metadata": {
        "colab": {
          "base_uri": "https://localhost:8080/"
        },
        "id": "TY8vpM8TIImk",
        "outputId": "96bb6ea8-6618-4816-c4fb-6f7b21d4ea14"
      },
      "source": [
        "print(f\"welcom {New_Name}\\nyour name is {Age}\")"
      ],
      "execution_count": null,
      "outputs": [
        {
          "output_type": "stream",
          "name": "stdout",
          "text": [
            "welcom Amr Abdelkarim Abdelfatah Eleraqi\n",
            "your name is 39\n"
          ]
        }
      ]
    },
    {
      "cell_type": "markdown",
      "metadata": {
        "id": "a1dNP0YI_791"
      },
      "source": [
        "**second lecture tasks**"
      ]
    },
    {
      "cell_type": "code",
      "metadata": {
        "colab": {
          "base_uri": "https://localhost:8080/"
        },
        "id": "xRPKfRTrAE7O",
        "outputId": "b3fd67d4-c57c-4f48-fe34-335524b5d335"
      },
      "source": [
        "#1\n",
        "t=(4,5,6)\n",
        "x,y,z=t\n",
        "print(f'x={x}\\ny={y}\\nz={z}\\n')\n"
      ],
      "execution_count": null,
      "outputs": [
        {
          "output_type": "stream",
          "name": "stdout",
          "text": [
            "x=4\n",
            "y=5\n",
            "z=6\n",
            "\n"
          ]
        }
      ]
    },
    {
      "cell_type": "code",
      "metadata": {
        "colab": {
          "base_uri": "https://localhost:8080/"
        },
        "id": "G6Tj8Df_BSgH",
        "outputId": "abc191d2-ac93-46d4-b595-775d57de7822"
      },
      "source": [
        "#2\n",
        "set_1={4,5,6,7,8,8,7}\n",
        "set_2={1,2,3,4,4,5,6,9}\n",
        "newset=set_1.union(set_2)\n",
        "print(newset)\n",
        "\n",
        "comman=set_1.intersection(set_2)\n",
        "print(comman)\n",
        "\n",
        "print(set_1 - set_2)\n",
        "print(set_2 - set_2)\n",
        "print(set_2.difference(set_1))\n",
        "print(max(set_2))\n",
        "print(len(set_1))\n",
        "print((set_1 - set_2).union(set_1))\n",
        "print(set_1 ^ set_2)\n",
        "print(set_1 | set_2)\n",
        "set_1.add (9)\n",
        "set_2.remove (6)\n",
        "print(set_2)"
      ],
      "execution_count": null,
      "outputs": [
        {
          "output_type": "stream",
          "name": "stdout",
          "text": [
            "{1, 2, 3, 4, 5, 6, 7, 8, 9}\n",
            "{4, 5, 6}\n",
            "{8, 7}\n",
            "set()\n",
            "{1, 2, 3, 9}\n",
            "9\n",
            "5\n",
            "{4, 5, 6, 7, 8}\n",
            "{1, 2, 3, 7, 8, 9}\n",
            "{1, 2, 3, 4, 5, 6, 7, 8, 9}\n",
            "{1, 2, 3, 4, 5, 9}\n"
          ]
        }
      ]
    },
    {
      "cell_type": "code",
      "metadata": {
        "colab": {
          "base_uri": "https://localhost:8080/",
          "height": 72
        },
        "id": "HOtYJu9qCisI",
        "outputId": "f76173f8-8433-425b-877b-6a54db44d674"
      },
      "source": [
        "#3\n",
        "dict = {'Name':'Amr',\n",
        "        'gender': 'Male',\n",
        "        'feeling': 'Happy'}\n",
        "print(dict)\n",
        "del dict['feeling']\n",
        "print(dict)\n",
        "'age' in dict\n",
        "dict ['gender']"
      ],
      "execution_count": null,
      "outputs": [
        {
          "output_type": "stream",
          "name": "stdout",
          "text": [
            "{'Name': 'Amr', 'gender': 'Male', 'feeling': 'Happy'}\n",
            "{'Name': 'Amr', 'gender': 'Male'}\n"
          ]
        },
        {
          "output_type": "execute_result",
          "data": {
            "application/vnd.google.colaboratory.intrinsic+json": {
              "type": "string"
            },
            "text/plain": [
              "'Male'"
            ]
          },
          "metadata": {},
          "execution_count": 26
        }
      ]
    },
    {
      "cell_type": "code",
      "metadata": {
        "colab": {
          "base_uri": "https://localhost:8080/"
        },
        "id": "0zOVSCOgEp7S",
        "outputId": "154aa667-04ed-4d6b-86b4-d0e7cbf52f61"
      },
      "source": [
        "#4\n",
        "x= input(\"inter the number\")\n",
        "print(float(x))\n",
        "print(int(float(x)))"
      ],
      "execution_count": null,
      "outputs": [
        {
          "output_type": "stream",
          "name": "stdout",
          "text": [
            "inter the number12.45\n",
            "12.45\n",
            "12\n"
          ]
        }
      ]
    },
    {
      "cell_type": "code",
      "metadata": {
        "colab": {
          "base_uri": "https://localhost:8080/"
        },
        "id": "JOKVf2TihdxS",
        "outputId": "c70bc082-13a2-416a-9fde-52b1e26a876e"
      },
      "source": [
        "#5\n",
        "str = \"will rock it\" \n",
        "for line in range(5): \n",
        "  print(str) "
      ],
      "execution_count": null,
      "outputs": [
        {
          "output_type": "stream",
          "name": "stdout",
          "text": [
            "will rock it\n",
            "will rock it\n",
            "will rock it\n",
            "will rock it\n",
            "will rock it\n"
          ]
        }
      ]
    },
    {
      "cell_type": "markdown",
      "metadata": {
        "id": "xGyKVO8rKxvC"
      },
      "source": [
        "**Day 3**"
      ]
    },
    {
      "cell_type": "code",
      "metadata": {
        "id": "qrQExQm-K1rF"
      },
      "source": [
        "list1= [1,2,3]"
      ],
      "execution_count": null,
      "outputs": []
    },
    {
      "cell_type": "code",
      "metadata": {
        "id": "XLekbrkKLh_q"
      },
      "source": [
        "from collections.abc import Iterable"
      ],
      "execution_count": null,
      "outputs": []
    },
    {
      "cell_type": "code",
      "metadata": {
        "colab": {
          "base_uri": "https://localhost:8080/"
        },
        "id": "we8U9cOLLuHm",
        "outputId": "9b9d7a92-1da1-488e-c27a-84cf1fd3f52f"
      },
      "source": [
        "hasattr(list1, '_iter_')"
      ],
      "execution_count": null,
      "outputs": [
        {
          "output_type": "execute_result",
          "data": {
            "text/plain": [
              "False"
            ]
          },
          "metadata": {},
          "execution_count": 32
        }
      ]
    },
    {
      "cell_type": "code",
      "metadata": {
        "colab": {
          "base_uri": "https://localhost:8080/"
        },
        "id": "g_coNOgFMKPg",
        "outputId": "70a4f2aa-bba0-4343-af46-57aea8f9594e"
      },
      "source": [
        "isinstance(list1, Iterable)\n"
      ],
      "execution_count": null,
      "outputs": [
        {
          "output_type": "execute_result",
          "data": {
            "text/plain": [
              "True"
            ]
          },
          "metadata": {},
          "execution_count": 31
        }
      ]
    },
    {
      "cell_type": "code",
      "metadata": {
        "colab": {
          "base_uri": "https://localhost:8080/"
        },
        "id": "_5TsgHeUMfs8",
        "outputId": "1e32d572-8f92-4a63-aecc-3fb36d943ac7"
      },
      "source": [
        "list2= [1,2,3,4]\n",
        "for i in list2:\n",
        "  print (i)\n"
      ],
      "execution_count": null,
      "outputs": [
        {
          "output_type": "stream",
          "name": "stdout",
          "text": [
            "1\n",
            "2\n",
            "3\n",
            "4\n"
          ]
        }
      ]
    },
    {
      "cell_type": "code",
      "metadata": {
        "colab": {
          "base_uri": "https://localhost:8080/"
        },
        "id": "KZltpWg6NpwA",
        "outputId": "67de502c-ddbd-4a6d-bba7-e8392cb27774"
      },
      "source": [
        "for i in range (101,110,2):\n",
        "  print(i)"
      ],
      "execution_count": null,
      "outputs": [
        {
          "output_type": "stream",
          "name": "stdout",
          "text": [
            "101\n",
            "103\n",
            "105\n",
            "107\n",
            "109\n"
          ]
        }
      ]
    },
    {
      "cell_type": "code",
      "metadata": {
        "colab": {
          "base_uri": "https://localhost:8080/"
        },
        "id": "3vYZj7fKOkCI",
        "outputId": "1f4df135-4d39-4b2d-ac52-410b8aab1920"
      },
      "source": [
        "str = 'فلسطين'\n",
        "for i in range(5):\n",
        "  print(str)"
      ],
      "execution_count": null,
      "outputs": [
        {
          "output_type": "stream",
          "name": "stdout",
          "text": [
            "فلسطين\n",
            "فلسطين\n",
            "فلسطين\n",
            "فلسطين\n",
            "فلسطين\n"
          ]
        }
      ]
    },
    {
      "cell_type": "code",
      "metadata": {
        "colab": {
          "base_uri": "https://localhost:8080/"
        },
        "id": "MH1F2rfPOj0t",
        "outputId": "dbd67bff-0d38-48fa-8a9d-16ca7b8f5da7"
      },
      "source": [
        "for i in range (10):\n",
        "  print(i)"
      ],
      "execution_count": null,
      "outputs": [
        {
          "output_type": "stream",
          "name": "stdout",
          "text": [
            "0\n",
            "1\n",
            "2\n",
            "3\n",
            "4\n",
            "5\n",
            "6\n",
            "7\n",
            "8\n",
            "9\n"
          ]
        }
      ]
    },
    {
      "cell_type": "code",
      "metadata": {
        "colab": {
          "base_uri": "https://localhost:8080/"
        },
        "id": "lS_kJInLRnHY",
        "outputId": "ea9de926-8290-413c-e0cd-ed9004799504"
      },
      "source": [
        "wallet = 1000\n",
        "if wallet > 3000:\n",
        "  print(wallet)\n",
        "else:\n",
        "  print(\"you dont have enogh money\")"
      ],
      "execution_count": null,
      "outputs": [
        {
          "output_type": "stream",
          "name": "stdout",
          "text": [
            "you dont have enogh money\n"
          ]
        }
      ]
    },
    {
      "cell_type": "code",
      "metadata": {
        "colab": {
          "base_uri": "https://localhost:8080/"
        },
        "id": "C_SCtTMoUojJ",
        "outputId": "81174c94-6598-4d9c-8829-50547c63e384"
      },
      "source": [
        "salary= int(input(\"your yearly salary is \"))\n",
        "if salary > 10000:\n",
        "  print(salary*0.10)\n",
        "elif salary < 10000:\n",
        "  print(salary*0.05)\n",
        "else:\n",
        "  print(salary)"
      ],
      "execution_count": null,
      "outputs": [
        {
          "output_type": "stream",
          "name": "stdout",
          "text": [
            "your yearly salary is 20000\n",
            "2000.0\n"
          ]
        }
      ]
    },
    {
      "cell_type": "code",
      "metadata": {
        "id": "4hMn-LxZ2UNx"
      },
      "source": [
        "import pandas as pd"
      ],
      "execution_count": null,
      "outputs": []
    },
    {
      "cell_type": "code",
      "metadata": {
        "id": "BE7ce2KJwanM"
      },
      "source": [
        "df = pd.read_csv(\"/content/tweets_01-08-2021.csv\")"
      ],
      "execution_count": null,
      "outputs": []
    },
    {
      "cell_type": "code",
      "metadata": {
        "colab": {
          "base_uri": "https://localhost:8080/",
          "height": 293
        },
        "id": "2I6RPVrqxgcY",
        "outputId": "66620035-65ab-4688-ce18-f93c695edb36"
      },
      "source": [
        "df.head()"
      ],
      "execution_count": null,
      "outputs": [
        {
          "output_type": "execute_result",
          "data": {
            "text/html": [
              "<div>\n",
              "<style scoped>\n",
              "    .dataframe tbody tr th:only-of-type {\n",
              "        vertical-align: middle;\n",
              "    }\n",
              "\n",
              "    .dataframe tbody tr th {\n",
              "        vertical-align: top;\n",
              "    }\n",
              "\n",
              "    .dataframe thead th {\n",
              "        text-align: right;\n",
              "    }\n",
              "</style>\n",
              "<table border=\"1\" class=\"dataframe\">\n",
              "  <thead>\n",
              "    <tr style=\"text-align: right;\">\n",
              "      <th></th>\n",
              "      <th>id</th>\n",
              "      <th>text</th>\n",
              "      <th>isRetweet</th>\n",
              "      <th>isDeleted</th>\n",
              "      <th>device</th>\n",
              "      <th>favorites</th>\n",
              "      <th>retweets</th>\n",
              "      <th>date</th>\n",
              "      <th>isFlagged</th>\n",
              "    </tr>\n",
              "  </thead>\n",
              "  <tbody>\n",
              "    <tr>\n",
              "      <th>0</th>\n",
              "      <td>98454970654916608</td>\n",
              "      <td>Republicans and Democrats have both created ou...</td>\n",
              "      <td>f</td>\n",
              "      <td>f</td>\n",
              "      <td>TweetDeck</td>\n",
              "      <td>49</td>\n",
              "      <td>255</td>\n",
              "      <td>2011-08-02 18:07:48</td>\n",
              "      <td>f</td>\n",
              "    </tr>\n",
              "    <tr>\n",
              "      <th>1</th>\n",
              "      <td>1234653427789070336</td>\n",
              "      <td>I was thrilled to be back in the Great city of...</td>\n",
              "      <td>f</td>\n",
              "      <td>f</td>\n",
              "      <td>Twitter for iPhone</td>\n",
              "      <td>73748</td>\n",
              "      <td>17404</td>\n",
              "      <td>2020-03-03 01:34:50</td>\n",
              "      <td>f</td>\n",
              "    </tr>\n",
              "    <tr>\n",
              "      <th>2</th>\n",
              "      <td>1218010753434820614</td>\n",
              "      <td>RT @CBS_Herridge: READ: Letter to surveillance...</td>\n",
              "      <td>t</td>\n",
              "      <td>f</td>\n",
              "      <td>Twitter for iPhone</td>\n",
              "      <td>0</td>\n",
              "      <td>7396</td>\n",
              "      <td>2020-01-17 03:22:47</td>\n",
              "      <td>f</td>\n",
              "    </tr>\n",
              "    <tr>\n",
              "      <th>3</th>\n",
              "      <td>1304875170860015617</td>\n",
              "      <td>The Unsolicited Mail In Ballot Scam is a major...</td>\n",
              "      <td>f</td>\n",
              "      <td>f</td>\n",
              "      <td>Twitter for iPhone</td>\n",
              "      <td>80527</td>\n",
              "      <td>23502</td>\n",
              "      <td>2020-09-12 20:10:58</td>\n",
              "      <td>f</td>\n",
              "    </tr>\n",
              "    <tr>\n",
              "      <th>4</th>\n",
              "      <td>1218159531554897920</td>\n",
              "      <td>RT @MZHemingway: Very friendly telling of even...</td>\n",
              "      <td>t</td>\n",
              "      <td>f</td>\n",
              "      <td>Twitter for iPhone</td>\n",
              "      <td>0</td>\n",
              "      <td>9081</td>\n",
              "      <td>2020-01-17 13:13:59</td>\n",
              "      <td>f</td>\n",
              "    </tr>\n",
              "  </tbody>\n",
              "</table>\n",
              "</div>"
            ],
            "text/plain": [
              "                    id  ... isFlagged\n",
              "0    98454970654916608  ...         f\n",
              "1  1234653427789070336  ...         f\n",
              "2  1218010753434820614  ...         f\n",
              "3  1304875170860015617  ...         f\n",
              "4  1218159531554897920  ...         f\n",
              "\n",
              "[5 rows x 9 columns]"
            ]
          },
          "metadata": {},
          "execution_count": 6
        }
      ]
    },
    {
      "cell_type": "code",
      "metadata": {
        "colab": {
          "base_uri": "https://localhost:8080/"
        },
        "id": "vsgti3qQxqx6",
        "outputId": "13ea5932-090e-48df-97f4-d9c8d8fe4897"
      },
      "source": [
        "df.shape"
      ],
      "execution_count": null,
      "outputs": [
        {
          "output_type": "execute_result",
          "data": {
            "text/plain": [
              "(56571, 9)"
            ]
          },
          "metadata": {},
          "execution_count": 7
        }
      ]
    },
    {
      "cell_type": "code",
      "metadata": {
        "colab": {
          "base_uri": "https://localhost:8080/",
          "height": 143
        },
        "id": "w9PkwNCHxzFX",
        "outputId": "c16d260c-d7be-4cf0-b174-156c54e49a28"
      },
      "source": [
        "df.describe().T"
      ],
      "execution_count": null,
      "outputs": [
        {
          "output_type": "execute_result",
          "data": {
            "text/html": [
              "<div>\n",
              "<style scoped>\n",
              "    .dataframe tbody tr th:only-of-type {\n",
              "        vertical-align: middle;\n",
              "    }\n",
              "\n",
              "    .dataframe tbody tr th {\n",
              "        vertical-align: top;\n",
              "    }\n",
              "\n",
              "    .dataframe thead th {\n",
              "        text-align: right;\n",
              "    }\n",
              "</style>\n",
              "<table border=\"1\" class=\"dataframe\">\n",
              "  <thead>\n",
              "    <tr style=\"text-align: right;\">\n",
              "      <th></th>\n",
              "      <th>count</th>\n",
              "      <th>mean</th>\n",
              "      <th>std</th>\n",
              "      <th>min</th>\n",
              "      <th>25%</th>\n",
              "      <th>50%</th>\n",
              "      <th>75%</th>\n",
              "      <th>max</th>\n",
              "    </tr>\n",
              "  </thead>\n",
              "  <tbody>\n",
              "    <tr>\n",
              "      <th>id</th>\n",
              "      <td>56571.0</td>\n",
              "      <td>7.987865e+17</td>\n",
              "      <td>3.826616e+17</td>\n",
              "      <td>1.698309e+09</td>\n",
              "      <td>4.606192e+17</td>\n",
              "      <td>7.471024e+17</td>\n",
              "      <td>1.193134e+18</td>\n",
              "      <td>1.347570e+18</td>\n",
              "    </tr>\n",
              "    <tr>\n",
              "      <th>favorites</th>\n",
              "      <td>56571.0</td>\n",
              "      <td>2.834955e+04</td>\n",
              "      <td>5.781564e+04</td>\n",
              "      <td>0.000000e+00</td>\n",
              "      <td>1.000000e+01</td>\n",
              "      <td>1.640000e+02</td>\n",
              "      <td>4.393850e+04</td>\n",
              "      <td>1.869706e+06</td>\n",
              "    </tr>\n",
              "    <tr>\n",
              "      <th>retweets</th>\n",
              "      <td>56571.0</td>\n",
              "      <td>8.618987e+03</td>\n",
              "      <td>1.330613e+04</td>\n",
              "      <td>0.000000e+00</td>\n",
              "      <td>5.900000e+01</td>\n",
              "      <td>3.450000e+03</td>\n",
              "      <td>1.301450e+04</td>\n",
              "      <td>4.088660e+05</td>\n",
              "    </tr>\n",
              "  </tbody>\n",
              "</table>\n",
              "</div>"
            ],
            "text/plain": [
              "             count          mean  ...           75%           max\n",
              "id         56571.0  7.987865e+17  ...  1.193134e+18  1.347570e+18\n",
              "favorites  56571.0  2.834955e+04  ...  4.393850e+04  1.869706e+06\n",
              "retweets   56571.0  8.618987e+03  ...  1.301450e+04  4.088660e+05\n",
              "\n",
              "[3 rows x 8 columns]"
            ]
          },
          "metadata": {},
          "execution_count": 12
        }
      ]
    },
    {
      "cell_type": "code",
      "metadata": {
        "colab": {
          "base_uri": "https://localhost:8080/"
        },
        "id": "3bNKzBV6yPgQ",
        "outputId": "c56381b5-3900-4ab7-a3bf-d94288ec2346"
      },
      "source": [
        "df.columns"
      ],
      "execution_count": null,
      "outputs": [
        {
          "output_type": "execute_result",
          "data": {
            "text/plain": [
              "Index(['id', 'text', 'isRetweet', 'isDeleted', 'device', 'favorites',\n",
              "       'retweets', 'date', 'isFlagged'],\n",
              "      dtype='object')"
            ]
          },
          "metadata": {},
          "execution_count": 16
        }
      ]
    },
    {
      "cell_type": "code",
      "metadata": {
        "id": "z0uDYYhOybbF"
      },
      "source": [
        "import matplotlib.pyplot as plt\n",
        "import seaborn as sns"
      ],
      "execution_count": null,
      "outputs": []
    },
    {
      "cell_type": "code",
      "metadata": {
        "colab": {
          "base_uri": "https://localhost:8080/",
          "height": 222
        },
        "id": "ysIAZ3TA1AlB",
        "outputId": "cdd0f924-81f8-46fc-a2b5-7f408bb5902f"
      },
      "source": [
        "q_Var = ['retweets']\n",
        "expGrid = sns.PairGrid(df, y_vars = 'favorites', x_vars = q_Var)\n",
        "expGrid.map(sns.regplot)\n"
      ],
      "execution_count": null,
      "outputs": [
        {
          "output_type": "execute_result",
          "data": {
            "text/plain": [
              "<seaborn.axisgrid.PairGrid at 0x7fdf56e42510>"
            ]
          },
          "metadata": {},
          "execution_count": 28
        },
        {
          "output_type": "display_data",
          "data": {
            "image/png": "[encoded data removed]",
            "text/plain": [
              "<Figure size 180x180 with 1 Axes>"
            ]
          },
          "metadata": {
            "needs_background": "light"
          }
        }
      ]
    },
    {
      "cell_type": "code",
      "metadata": {
        "id": "Nmg3YDKH2ROu"
      },
      "source": [
        "new_data = df.copy()"
      ],
      "execution_count": null,
      "outputs": []
    },
    {
      "cell_type": "code",
      "metadata": {
        "colab": {
          "base_uri": "https://localhost:8080/",
          "height": 293
        },
        "id": "KivAd1H02gbF",
        "outputId": "2f5747ea-8d6c-4e75-a740-5ba96421a500"
      },
      "source": [
        "new_data.tail()"
      ],
      "execution_count": null,
      "outputs": [
        {
          "output_type": "execute_result",
          "data": {
            "text/html": [
              "<div>\n",
              "<style scoped>\n",
              "    .dataframe tbody tr th:only-of-type {\n",
              "        vertical-align: middle;\n",
              "    }\n",
              "\n",
              "    .dataframe tbody tr th {\n",
              "        vertical-align: top;\n",
              "    }\n",
              "\n",
              "    .dataframe thead th {\n",
              "        text-align: right;\n",
              "    }\n",
              "</style>\n",
              "<table border=\"1\" class=\"dataframe\">\n",
              "  <thead>\n",
              "    <tr style=\"text-align: right;\">\n",
              "      <th></th>\n",
              "      <th>id</th>\n",
              "      <th>text</th>\n",
              "      <th>isRetweet</th>\n",
              "      <th>isDeleted</th>\n",
              "      <th>device</th>\n",
              "      <th>favorites</th>\n",
              "      <th>retweets</th>\n",
              "      <th>date</th>\n",
              "      <th>isFlagged</th>\n",
              "    </tr>\n",
              "  </thead>\n",
              "  <tbody>\n",
              "    <tr>\n",
              "      <th>56566</th>\n",
              "      <td>1319485303363571714</td>\n",
              "      <td>RT @RandPaul: I don’t know why @JoeBiden think...</td>\n",
              "      <td>t</td>\n",
              "      <td>f</td>\n",
              "      <td>Twitter for iPhone</td>\n",
              "      <td>0</td>\n",
              "      <td>20683</td>\n",
              "      <td>2020-10-23 03:46:25</td>\n",
              "      <td>f</td>\n",
              "    </tr>\n",
              "    <tr>\n",
              "      <th>56567</th>\n",
              "      <td>1319484210101379072</td>\n",
              "      <td>RT @EliseStefanik: President @realDonaldTrump ...</td>\n",
              "      <td>t</td>\n",
              "      <td>f</td>\n",
              "      <td>Twitter for iPhone</td>\n",
              "      <td>0</td>\n",
              "      <td>9869</td>\n",
              "      <td>2020-10-23 03:42:05</td>\n",
              "      <td>f</td>\n",
              "    </tr>\n",
              "    <tr>\n",
              "      <th>56568</th>\n",
              "      <td>1319444420861829121</td>\n",
              "      <td>RT @TeamTrump: LIVE: Presidential Debate #Deba...</td>\n",
              "      <td>t</td>\n",
              "      <td>f</td>\n",
              "      <td>Twitter for iPhone</td>\n",
              "      <td>0</td>\n",
              "      <td>8197</td>\n",
              "      <td>2020-10-23 01:03:58</td>\n",
              "      <td>f</td>\n",
              "    </tr>\n",
              "    <tr>\n",
              "      <th>56569</th>\n",
              "      <td>1319384118849949702</td>\n",
              "      <td>Just signed an order to support the workers of...</td>\n",
              "      <td>f</td>\n",
              "      <td>f</td>\n",
              "      <td>Twitter for iPhone</td>\n",
              "      <td>176289</td>\n",
              "      <td>36001</td>\n",
              "      <td>2020-10-22 21:04:21</td>\n",
              "      <td>f</td>\n",
              "    </tr>\n",
              "    <tr>\n",
              "      <th>56570</th>\n",
              "      <td>1319345719829008387</td>\n",
              "      <td>Suburban women want Safety &amp;amp; Security. Joe...</td>\n",
              "      <td>f</td>\n",
              "      <td>f</td>\n",
              "      <td>Twitter for iPhone</td>\n",
              "      <td>95169</td>\n",
              "      <td>19545</td>\n",
              "      <td>2020-10-22 18:31:46</td>\n",
              "      <td>f</td>\n",
              "    </tr>\n",
              "  </tbody>\n",
              "</table>\n",
              "</div>"
            ],
            "text/plain": [
              "                        id  ... isFlagged\n",
              "56566  1319485303363571714  ...         f\n",
              "56567  1319484210101379072  ...         f\n",
              "56568  1319444420861829121  ...         f\n",
              "56569  1319384118849949702  ...         f\n",
              "56570  1319345719829008387  ...         f\n",
              "\n",
              "[5 rows x 9 columns]"
            ]
          },
          "metadata": {},
          "execution_count": 34
        }
      ]
    },
    {
      "cell_type": "code",
      "metadata": {
        "id": "jfJA5hFr3Hto"
      },
      "source": [
        ""
      ],
      "execution_count": null,
      "outputs": []
    },
    {
      "cell_type": "code",
      "metadata": {
        "colab": {
          "base_uri": "https://localhost:8080/",
          "height": 498
        },
        "id": "-TecoOUc3PQR",
        "outputId": "cd638bd4-7a7d-424f-df7b-041f3bdac35e"
      },
      "source": [
        "df['date'] = pd.to_datetime(df['date'])\n",
        "plt.figure(figsize=(10,7))\n",
        "sns.countplot(df['date'].apply(lambda x: x.year))\n",
        "plt.xlabel('Year')\n",
        "plt.show()\n"
      ],
      "execution_count": null,
      "outputs": [
        {
          "output_type": "stream",
          "name": "stderr",
          "text": [
            "/usr/local/lib/python3.7/dist-packages/seaborn/_decorators.py:43: FutureWarning: Pass the following variable as a keyword arg: x. From version 0.12, the only valid positional argument will be `data`, and passing other arguments without an explicit keyword will result in an error or misinterpretation.\n",
            "  FutureWarning\n"
          ]
        },
        {
          "output_type": "display_data",
          "data": {
            "image/png": "[encoded data removed]",
            "text/plain": [
              "<Figure size 720x504 with 1 Axes>"
            ]
          },
          "metadata": {
            "needs_background": "light"
          }
        }
      ]
    },
    {
      "cell_type": "markdown",
      "source": [
        "**Exam**"
      ],
      "metadata": {
        "id": "60QHfyl5V8Bl"
      }
    },
    {
      "cell_type": "code",
      "source": [
        "def f_cube(number):\n",
        "    return number**3\n",
        "def s_by_three(number):\n",
        "    if number % 3 == 0 :\n",
        "         return f_cube(number)\n",
        "    else :\n",
        "         return False\n",
        "\n",
        "f_cube(3)\n"
      ],
      "metadata": {
        "colab": {
          "base_uri": "https://localhost:8080/"
        },
        "id": "LyVzmAngV-Uj",
        "outputId": "1ce1ed80-7288-46d0-afe1-f8e356b28e23"
      },
      "execution_count": null,
      "outputs": [
        {
          "output_type": "execute_result",
          "data": {
            "text/plain": [
              "27"
            ]
          },
          "metadata": {},
          "execution_count": 23
        }
      ]
    },
    {
      "cell_type": "code",
      "source": [
        "s_by_three (6)"
      ],
      "metadata": {
        "colab": {
          "base_uri": "https://localhost:8080/"
        },
        "id": "GNpGMpfccsjQ",
        "outputId": "4831e890-13fb-45cc-f234-7f47db4106c4"
      },
      "execution_count": null,
      "outputs": [
        {
          "output_type": "execute_result",
          "data": {
            "text/plain": [
              "216"
            ]
          },
          "metadata": {},
          "execution_count": 26
        }
      ]
    },
    {
      "cell_type": "code",
      "source": [
        "def dis(N):\n",
        "    if type(N) == int or type(N) == float:\n",
        "        return abs(N)\n",
        "    else:\n",
        "        return \"Nope\"\n",
        "\n",
        "dis(-5.6)\n"
      ],
      "metadata": {
        "colab": {
          "base_uri": "https://localhost:8080/"
        },
        "id": "RX-4ss7uYkJT",
        "outputId": "38bf85b5-3290-4ec3-eb89-aeee41530c5a"
      },
      "execution_count": null,
      "outputs": [
        {
          "output_type": "execute_result",
          "data": {
            "text/plain": [
              "5.6"
            ]
          },
          "metadata": {},
          "execution_count": 24
        }
      ]
    },
    {
      "cell_type": "code",
      "source": [
        "dis(\"m\")"
      ],
      "metadata": {
        "colab": {
          "base_uri": "https://localhost:8080/",
          "height": 35
        },
        "id": "rhZwO3lGdYku",
        "outputId": "4543f0c1-a2ac-424d-8521-65fdb5e8df4a"
      },
      "execution_count": null,
      "outputs": [
        {
          "output_type": "execute_result",
          "data": {
            "application/vnd.google.colaboratory.intrinsic+json": {
              "type": "string"
            },
            "text/plain": [
              "'Nope'"
            ]
          },
          "metadata": {},
          "execution_count": 25
        }
      ]
    },
    {
      "cell_type": "markdown",
      "source": [
        "# **Q1**"
      ],
      "metadata": {
        "id": "PxAAgIycYVrA"
      }
    },
    {
      "cell_type": "code",
      "source": [
        "class Vehicle:\n",
        "\n",
        "    def __init__(self, name, max_speed, mileage):\n",
        "        self.name = name\n",
        "        self.max_speed = max_speed\n",
        "        self.mileage = mileage\n",
        "\n",
        "class Bus(Vehicle):\n",
        "    pass\n",
        "\n",
        "Details_school_bus = Bus(\"School Volvo\", 360, 24)\n",
        "print(\"Vehicle Name:\", Details_school_bus.name, \"Speed:\", Details_school_bus.max_speed, \"Mileage:\", Details_school_bus.mileage)\n"
      ],
      "metadata": {
        "colab": {
          "base_uri": "https://localhost:8080/"
        },
        "id": "Uj93vYfIX8qg",
        "outputId": "2f4fab9e-4dce-460c-94b4-06237cb250ca"
      },
      "execution_count": null,
      "outputs": [
        {
          "output_type": "stream",
          "name": "stdout",
          "text": [
            "Vehicle Name: School Volvo Speed: 360 Mileage: 24\n"
          ]
        }
      ]
    },
    {
      "cell_type": "markdown",
      "source": [
        "#**Q2**"
      ],
      "metadata": {
        "id": "4AQeTmneYSgI"
      }
    },
    {
      "cell_type": "code",
      "source": [
        "class bus(Vehicle):\n",
        "    \n",
        "    def seating_capacity(self, capacity=50):\n",
        "        return f\"The seating capacity of a {self.name} is {capacity} passengers\"\n",
        "    \n",
        "bus(\"Details_school_bus\", 200, 3000).seating_capacity()"
      ],
      "metadata": {
        "colab": {
          "base_uri": "https://localhost:8080/",
          "height": 36
        },
        "id": "cdiPzVEeYIxW",
        "outputId": "cb9515d5-79ef-4d92-9a9d-7a0227f1123a"
      },
      "execution_count": null,
      "outputs": [
        {
          "output_type": "execute_result",
          "data": {
            "application/vnd.google.colaboratory.intrinsic+json": {
              "type": "string"
            },
            "text/plain": [
              "'The seating capacity of a Details_school_bus is 50 passengers'"
            ]
          },
          "metadata": {},
          "execution_count": 2
        }
      ]
    },
    {
      "cell_type": "markdown",
      "source": [
        "# **Q3**"
      ],
      "metadata": {
        "id": "iaSfR4G5YQZ2"
      }
    },
    {
      "cell_type": "code",
      "source": [
        "class Vehicle:\n",
        "    def __init__(self, name, mileage, capacity):\n",
        "        self.name = name\n",
        "        self.mileage = mileage\n",
        "        self.capacity = capacity\n",
        "\n",
        "    def fare(self):\n",
        "        return self.capacity * 100\n",
        "\n",
        "class Bus(Vehicle):\n",
        "    pass\n",
        "\n",
        "School_bus = Bus(\"School Volvo\", 12, 50)\n",
        "print(\"Total Details Bus fare is:\", School_bus.fare())"
      ],
      "metadata": {
        "colab": {
          "base_uri": "https://localhost:8080/"
        },
        "id": "Nmjw9fcpYL7j",
        "outputId": "0921b499-f518-479c-d881-aa242aeae06c"
      },
      "execution_count": null,
      "outputs": [
        {
          "output_type": "stream",
          "name": "stdout",
          "text": [
            "Total Details Bus fare is: 5000\n"
          ]
        }
      ]
    }
  ]
}